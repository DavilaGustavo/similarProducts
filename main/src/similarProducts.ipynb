{
 "cells": [
  {
   "cell_type": "code",
   "execution_count": 1,
   "id": "29ab69f4-ca84-48d8-8158-ce8c4eec1b1f",
   "metadata": {},
   "outputs": [],
   "source": [
    "import pandas as pd\n",
    "from sklearn.metrics.pairwise import cosine_similarity"
   ]
  },
  {
   "cell_type": "code",
   "execution_count": 2,
   "id": "2afe5d56-dfe0-449b-a1d2-51de2d103dcc",
   "metadata": {},
   "outputs": [],
   "source": [
    "df_products = pd.read_csv('products.csv')"
   ]
  },
  {
   "cell_type": "code",
   "execution_count": 4,
   "id": "723864dc-e86f-499e-96cd-c10bc77f33a6",
   "metadata": {},
   "outputs": [],
   "source": [
    "# Separate the important columns\n",
    "df_products = df_products[['product_id', 'product_name', 'category', 'subcategory']]"
   ]
  },
  {
   "cell_type": "code",
   "execution_count": 5,
   "id": "5b2eb227-d759-45c4-85aa-652d2c2dc870",
   "metadata": {},
   "outputs": [],
   "source": [
    "# Splitting both product_name and category into separated words (list)\n",
    "df_products['product_name'] = df_products['product_name'].apply(lambda x: x.split())\n",
    "df_products['category'] = df_products['category'].apply(lambda x: x.replace(\",\", \"\").split())"
   ]
  },
  {
   "cell_type": "code",
   "execution_count": 7,
   "id": "e384ec22-288c-4a40-8438-6b1842f466ad",
   "metadata": {},
   "outputs": [],
   "source": [
    "# Some adjustments to subcategory turn into a list\n",
    "df_products['subcategory'] = df_products['subcategory'].fillna('Genérico')\n",
    "df_products['subcategory'] = df_products['subcategory'].apply(lambda x: x.replace(\",\", \"\").split())"
   ]
  },
  {
   "cell_type": "code",
   "execution_count": 8,
   "id": "58fc50f7-7249-4ade-8f09-9e7bbc00c1fe",
   "metadata": {},
   "outputs": [],
   "source": [
    "# Remove some symbols from subcategory\n",
    "df_products['subcategory'] = df_products['subcategory'].apply(lambda x: [i for i in x if i.lower() != \"/\"])\n",
    "df_products['subcategory'] = df_products['subcategory'].apply(lambda x: [i for i in x if i.lower() != \"|\"])"
   ]
  },
  {
   "cell_type": "code",
   "execution_count": 9,
   "id": "6baad30d-e5e8-4ea0-84d1-f3b6970a3d40",
   "metadata": {},
   "outputs": [],
   "source": [
    "# Create a columns called tags using all the other ones\n",
    "df_products['tags'] = df_products['product_name']+df_products['category']+df_products['subcategory']"
   ]
  },
  {
   "cell_type": "code",
   "execution_count": 10,
   "id": "b60cea91-f8a0-4b11-af76-12e1f4b4eaa7",
   "metadata": {},
   "outputs": [],
   "source": [
    "# Creates a new df using the product_id and the tags\n",
    "new_df = df_products[['product_id', 'tags']]"
   ]
  },
  {
   "cell_type": "code",
   "execution_count": 11,
   "id": "cb7ff8c3-dba8-423d-a44b-d8f10bce2d09",
   "metadata": {},
   "outputs": [
    {
     "name": "stderr",
     "output_type": "stream",
     "text": [
      "C:\\Users\\gusta\\AppData\\Local\\Temp\\ipykernel_19800\\895399174.py:1: SettingWithCopyWarning: \n",
      "A value is trying to be set on a copy of a slice from a DataFrame.\n",
      "Try using .loc[row_indexer,col_indexer] = value instead\n",
      "\n",
      "See the caveats in the documentation: https://pandas.pydata.org/pandas-docs/stable/user_guide/indexing.html#returning-a-view-versus-a-copy\n",
      "  new_df['tags'] = new_df['tags'].apply(lambda x: ' '.join(x))\n"
     ]
    }
   ],
   "source": [
    "# Join the words on the list\n",
    "new_df['tags'] = new_df['tags'].apply(lambda x: ' '.join(x))"
   ]
  },
  {
   "cell_type": "code",
   "execution_count": 12,
   "id": "9b255fc8-b483-4632-bbdc-9c43922f99a0",
   "metadata": {},
   "outputs": [
    {
     "name": "stderr",
     "output_type": "stream",
     "text": [
      "C:\\Users\\gusta\\AppData\\Local\\Temp\\ipykernel_19800\\101097880.py:1: SettingWithCopyWarning: \n",
      "A value is trying to be set on a copy of a slice from a DataFrame.\n",
      "Try using .loc[row_indexer,col_indexer] = value instead\n",
      "\n",
      "See the caveats in the documentation: https://pandas.pydata.org/pandas-docs/stable/user_guide/indexing.html#returning-a-view-versus-a-copy\n",
      "  new_df['tags'] = new_df['tags'].apply(lambda X: X.lower())\n"
     ]
    }
   ],
   "source": [
    "# Make everything lowercase\n",
    "new_df['tags'] = new_df['tags'].apply(lambda X: X.lower())"
   ]
  },
  {
   "cell_type": "code",
   "execution_count": 13,
   "id": "4654efa0-da78-4aa6-b4ab-d3039087c82a",
   "metadata": {},
   "outputs": [],
   "source": [
    "# Vectorizing all the words and excluding some of them (portuguese)\n",
    "from sklearn.feature_extraction.text import CountVectorizer\n",
    "stop_words_portuguese = [\n",
    "    \"a\", \"o\", \"e\", \"de\", \"da\", \"do\", \"em\", \"para\", \"com\", \"que\", \"é\", \n",
    "    \"dos\", \"das\", \"um\", \"uma\", \"não\", \"na\", \"no\", \"por\", \"se\", \"nao\",\n",
    "    # Feel free to add more words\n",
    "]\n",
    "cv = CountVectorizer(max_features=5000, stop_words=stop_words_portuguese)"
   ]
  },
  {
   "cell_type": "code",
   "execution_count": 14,
   "id": "b6854ba1-865f-45a1-86a9-cfa2c92a2273",
   "metadata": {},
   "outputs": [
    {
     "data": {
      "text/plain": [
       "(26575, 5000)"
      ]
     },
     "execution_count": 14,
     "metadata": {},
     "output_type": "execute_result"
    }
   ],
   "source": [
    "cv.fit_transform(new_df['tags']).toarray().shape"
   ]
  },
  {
   "cell_type": "code",
   "execution_count": 15,
   "id": "022bc532-f7f8-4838-983d-c586e05de43a",
   "metadata": {},
   "outputs": [],
   "source": [
    "vectors = cv.fit_transform(new_df['tags']).toarray()"
   ]
  },
  {
   "cell_type": "code",
   "execution_count": 16,
   "id": "9cd79b14-536a-4675-97de-896972c246f4",
   "metadata": {},
   "outputs": [],
   "source": [
    "# Using PorterStemmer to simplify the words, dont even know if that works in portuguese\n",
    "import nltk\n",
    "from nltk.stem.porter import PorterStemmer\n",
    "ps = PorterStemmer()"
   ]
  },
  {
   "cell_type": "code",
   "execution_count": 17,
   "id": "05970d2d-a801-48a9-a062-1c77563560bb",
   "metadata": {},
   "outputs": [],
   "source": [
    "# Function for the PorterStemmer\n",
    "def stem(text):\n",
    "    y = []\n",
    "    for i in text.split():\n",
    "        y.append(ps.stem(i))\n",
    "    return \" \".join(y)"
   ]
  },
  {
   "cell_type": "code",
   "execution_count": 18,
   "id": "4f2eca25-0f9b-4f9b-ad31-c43e86c5461d",
   "metadata": {},
   "outputs": [
    {
     "name": "stderr",
     "output_type": "stream",
     "text": [
      "C:\\Users\\gusta\\AppData\\Local\\Temp\\ipykernel_19800\\3213734980.py:1: SettingWithCopyWarning: \n",
      "A value is trying to be set on a copy of a slice from a DataFrame.\n",
      "Try using .loc[row_indexer,col_indexer] = value instead\n",
      "\n",
      "See the caveats in the documentation: https://pandas.pydata.org/pandas-docs/stable/user_guide/indexing.html#returning-a-view-versus-a-copy\n",
      "  new_df['tags'] = new_df['tags'].apply(stem)\n"
     ]
    }
   ],
   "source": [
    "new_df['tags'] = new_df['tags'].apply(stem)"
   ]
  },
  {
   "cell_type": "code",
   "execution_count": 19,
   "id": "0cfca248-612c-47d1-bfbf-34f119a0ce67",
   "metadata": {},
   "outputs": [],
   "source": [
    "# Gets the cosine similarity between all the words\n",
    "similarity = cosine_similarity(vectors)"
   ]
  },
  {
   "cell_type": "code",
   "execution_count": 20,
   "id": "1979447d-888f-41cc-a7cb-57dcaa644b1c",
   "metadata": {},
   "outputs": [],
   "source": [
    "# Function responsible for the recommendation of products, based on the similarity\n",
    "def recommend(product):\n",
    "    product_index = new_df[new_df['product_id'] == product].index[0]\n",
    "    distances = similarity[product_index]\n",
    "    products_list = sorted(list(enumerate(distances)), reverse = True, key = lambda x: x[1])[1:6]\n",
    "\n",
    "    for i in products_list:\n",
    "        print(new_df.iloc[i[0]].tags)"
   ]
  },
  {
   "cell_type": "code",
   "execution_count": 21,
   "id": "d5264844-03e5-46ec-8d89-159cfd362b66",
   "metadata": {},
   "outputs": [
    {
     "name": "stdout",
     "output_type": "stream",
     "text": [
      "appl watch se gp 40mm caixa de alumínio com pulseira esportiva smartphon tablet e telefon smartwatch e smartband\n",
      "appl watch se gp 44mm com pulseira esportiva smartphon tablet e telefon smartwatch e smartband\n",
      "smartwatch appl watch seri 3 38mm smartphon tablet e telefon smartwatch e smartband\n",
      "smartwatch appl watch seri 3 38mm smartphon tablet e telefon smartwatch e smartband\n",
      "smartwatch appl watch seri 3 42mm smartphon tablet e telefon smartwatch e smartband\n"
     ]
    }
   ],
   "source": [
    "recommend('(product_id of a apple watch)')"
   ]
  }
 ],
 "metadata": {
  "kernelspec": {
   "display_name": "Python 3 (ipykernel)",
   "language": "python",
   "name": "python3"
  },
  "language_info": {
   "codemirror_mode": {
    "name": "ipython",
    "version": 3
   },
   "file_extension": ".py",
   "mimetype": "text/x-python",
   "name": "python",
   "nbconvert_exporter": "python",
   "pygments_lexer": "ipython3",
   "version": "3.12.2"
  }
 },
 "nbformat": 4,
 "nbformat_minor": 5
}
